{
  "nbformat": 4,
  "nbformat_minor": 0,
  "metadata": {
    "colab": {
      "name": "Car Price Prediction_Linear_Regression.ipynb",
      "provenance": [],
      "collapsed_sections": [],
      "authorship_tag": "ABX9TyOhGSLx2dMcLSH3R88JZ5en",
      "include_colab_link": true
    },
    "kernelspec": {
      "name": "python3",
      "display_name": "Python 3"
    },
    "language_info": {
      "name": "python"
    }
  },
  "cells": [
    {
      "cell_type": "markdown",
      "metadata": {
        "id": "view-in-github",
        "colab_type": "text"
      },
      "source": [
        "<a href=\"https://colab.research.google.com/github/msbeigiai/tensorflow-dnn/blob/main/Car_Price_Prediction_Linear_Regression.ipynb\" target=\"_parent\"><img src=\"https://colab.research.google.com/assets/colab-badge.svg\" alt=\"Open In Colab\"/></a>"
      ]
    },
    {
      "cell_type": "markdown",
      "metadata": {
        "id": "74Mt_UWrTZUd"
      },
      "source": [
        "# Predicting car price"
      ]
    },
    {
      "cell_type": "markdown",
      "metadata": {
        "id": "kr5WTQjov3o6"
      },
      "source": [
        "In this notebook we want to predict car price according given dataset. \n",
        "This dataset has imported from [Kaggle](https://www.kaggle.com/hellbuoy/car-price-prediction). \n",
        "\n",
        "_**By the end of this session we will be able to predict new given car price according to given features or spesifications.**_"
      ]
    },
    {
      "cell_type": "markdown",
      "metadata": {
        "id": "YJIINtONwyYE"
      },
      "source": [
        "First we import neccessary libraries. According to given dataset which is **Linear Regression** problem, I'd prefer do this peoject with **Deep Neural Network** (DNN). \n",
        "So, to begin, we implement neccassary libraries.\n",
        "\n",
        "_This project has done in **Google Colab**._"
      ]
    },
    {
      "cell_type": "markdown",
      "metadata": {
        "id": "E-Lm8_R1TlAf"
      },
      "source": [
        "## Importing necessary library"
      ]
    },
    {
      "cell_type": "code",
      "metadata": {
        "id": "kzsffslKjVfK"
      },
      "source": [
        "import tensorflow as tf\n",
        "import numpy as np\n",
        "import pandas as pd\n",
        "import matplotlib.pyplot as plt"
      ],
      "execution_count": 4,
      "outputs": []
    },
    {
      "cell_type": "code",
      "metadata": {
        "colab": {
          "base_uri": "https://localhost:8080/"
        },
        "id": "KMgI57XEx6x6",
        "outputId": "fa802e97-494f-481a-8b4a-07e8e17b2a89"
      },
      "source": [
        "print(f\"Tensorflow version: {tf.__version__}\")"
      ],
      "execution_count": 5,
      "outputs": [
        {
          "output_type": "stream",
          "name": "stdout",
          "text": [
            "Tensorflow version: 2.7.0\n"
          ]
        }
      ]
    },
    {
      "cell_type": "markdown",
      "metadata": {
        "id": "JrXnVkI3yDbg"
      },
      "source": [
        "As can be seen in this project I will use the latest version of **Tensorflow** inside google colab."
      ]
    },
    {
      "cell_type": "markdown",
      "metadata": {
        "id": "W1Jm3FDlyQ5o"
      },
      "source": [
        "So, the next step is to bring dataset into the world of notebook. To do that we use `pandas` and `.read_csv` function. "
      ]
    },
    {
      "cell_type": "markdown",
      "metadata": {
        "id": "251YpeZATrlR"
      },
      "source": [
        "## Importing dataset:"
      ]
    },
    {
      "cell_type": "code",
      "metadata": {
        "colab": {
          "base_uri": "https://localhost:8080/",
          "height": 531
        },
        "id": "bALi7cCekIxw",
        "outputId": "48cbd491-47dc-470f-8606-d827cdd9b3ea"
      },
      "source": [
        "car_price = pd.read_csv(\"CarPrice_Assignment.csv\")\n",
        "car_price"
      ],
      "execution_count": 6,
      "outputs": [
        {
          "output_type": "execute_result",
          "data": {
            "text/html": [
              "<div>\n",
              "<style scoped>\n",
              "    .dataframe tbody tr th:only-of-type {\n",
              "        vertical-align: middle;\n",
              "    }\n",
              "\n",
              "    .dataframe tbody tr th {\n",
              "        vertical-align: top;\n",
              "    }\n",
              "\n",
              "    .dataframe thead th {\n",
              "        text-align: right;\n",
              "    }\n",
              "</style>\n",
              "<table border=\"1\" class=\"dataframe\">\n",
              "  <thead>\n",
              "    <tr style=\"text-align: right;\">\n",
              "      <th></th>\n",
              "      <th>car_ID</th>\n",
              "      <th>symboling</th>\n",
              "      <th>CarName</th>\n",
              "      <th>fueltype</th>\n",
              "      <th>aspiration</th>\n",
              "      <th>doornumber</th>\n",
              "      <th>carbody</th>\n",
              "      <th>drivewheel</th>\n",
              "      <th>enginelocation</th>\n",
              "      <th>wheelbase</th>\n",
              "      <th>carlength</th>\n",
              "      <th>carwidth</th>\n",
              "      <th>carheight</th>\n",
              "      <th>curbweight</th>\n",
              "      <th>enginetype</th>\n",
              "      <th>cylindernumber</th>\n",
              "      <th>enginesize</th>\n",
              "      <th>fuelsystem</th>\n",
              "      <th>boreratio</th>\n",
              "      <th>stroke</th>\n",
              "      <th>compressionratio</th>\n",
              "      <th>horsepower</th>\n",
              "      <th>peakrpm</th>\n",
              "      <th>citympg</th>\n",
              "      <th>highwaympg</th>\n",
              "      <th>price</th>\n",
              "    </tr>\n",
              "  </thead>\n",
              "  <tbody>\n",
              "    <tr>\n",
              "      <th>0</th>\n",
              "      <td>1</td>\n",
              "      <td>3</td>\n",
              "      <td>alfa-romero giulia</td>\n",
              "      <td>gas</td>\n",
              "      <td>std</td>\n",
              "      <td>two</td>\n",
              "      <td>convertible</td>\n",
              "      <td>rwd</td>\n",
              "      <td>front</td>\n",
              "      <td>88.6</td>\n",
              "      <td>168.8</td>\n",
              "      <td>64.1</td>\n",
              "      <td>48.8</td>\n",
              "      <td>2548</td>\n",
              "      <td>dohc</td>\n",
              "      <td>four</td>\n",
              "      <td>130</td>\n",
              "      <td>mpfi</td>\n",
              "      <td>3.47</td>\n",
              "      <td>2.68</td>\n",
              "      <td>9.0</td>\n",
              "      <td>111</td>\n",
              "      <td>5000</td>\n",
              "      <td>21</td>\n",
              "      <td>27</td>\n",
              "      <td>13495.0</td>\n",
              "    </tr>\n",
              "    <tr>\n",
              "      <th>1</th>\n",
              "      <td>2</td>\n",
              "      <td>3</td>\n",
              "      <td>alfa-romero stelvio</td>\n",
              "      <td>gas</td>\n",
              "      <td>std</td>\n",
              "      <td>two</td>\n",
              "      <td>convertible</td>\n",
              "      <td>rwd</td>\n",
              "      <td>front</td>\n",
              "      <td>88.6</td>\n",
              "      <td>168.8</td>\n",
              "      <td>64.1</td>\n",
              "      <td>48.8</td>\n",
              "      <td>2548</td>\n",
              "      <td>dohc</td>\n",
              "      <td>four</td>\n",
              "      <td>130</td>\n",
              "      <td>mpfi</td>\n",
              "      <td>3.47</td>\n",
              "      <td>2.68</td>\n",
              "      <td>9.0</td>\n",
              "      <td>111</td>\n",
              "      <td>5000</td>\n",
              "      <td>21</td>\n",
              "      <td>27</td>\n",
              "      <td>16500.0</td>\n",
              "    </tr>\n",
              "    <tr>\n",
              "      <th>2</th>\n",
              "      <td>3</td>\n",
              "      <td>1</td>\n",
              "      <td>alfa-romero Quadrifoglio</td>\n",
              "      <td>gas</td>\n",
              "      <td>std</td>\n",
              "      <td>two</td>\n",
              "      <td>hatchback</td>\n",
              "      <td>rwd</td>\n",
              "      <td>front</td>\n",
              "      <td>94.5</td>\n",
              "      <td>171.2</td>\n",
              "      <td>65.5</td>\n",
              "      <td>52.4</td>\n",
              "      <td>2823</td>\n",
              "      <td>ohcv</td>\n",
              "      <td>six</td>\n",
              "      <td>152</td>\n",
              "      <td>mpfi</td>\n",
              "      <td>2.68</td>\n",
              "      <td>3.47</td>\n",
              "      <td>9.0</td>\n",
              "      <td>154</td>\n",
              "      <td>5000</td>\n",
              "      <td>19</td>\n",
              "      <td>26</td>\n",
              "      <td>16500.0</td>\n",
              "    </tr>\n",
              "    <tr>\n",
              "      <th>3</th>\n",
              "      <td>4</td>\n",
              "      <td>2</td>\n",
              "      <td>audi 100 ls</td>\n",
              "      <td>gas</td>\n",
              "      <td>std</td>\n",
              "      <td>four</td>\n",
              "      <td>sedan</td>\n",
              "      <td>fwd</td>\n",
              "      <td>front</td>\n",
              "      <td>99.8</td>\n",
              "      <td>176.6</td>\n",
              "      <td>66.2</td>\n",
              "      <td>54.3</td>\n",
              "      <td>2337</td>\n",
              "      <td>ohc</td>\n",
              "      <td>four</td>\n",
              "      <td>109</td>\n",
              "      <td>mpfi</td>\n",
              "      <td>3.19</td>\n",
              "      <td>3.40</td>\n",
              "      <td>10.0</td>\n",
              "      <td>102</td>\n",
              "      <td>5500</td>\n",
              "      <td>24</td>\n",
              "      <td>30</td>\n",
              "      <td>13950.0</td>\n",
              "    </tr>\n",
              "    <tr>\n",
              "      <th>4</th>\n",
              "      <td>5</td>\n",
              "      <td>2</td>\n",
              "      <td>audi 100ls</td>\n",
              "      <td>gas</td>\n",
              "      <td>std</td>\n",
              "      <td>four</td>\n",
              "      <td>sedan</td>\n",
              "      <td>4wd</td>\n",
              "      <td>front</td>\n",
              "      <td>99.4</td>\n",
              "      <td>176.6</td>\n",
              "      <td>66.4</td>\n",
              "      <td>54.3</td>\n",
              "      <td>2824</td>\n",
              "      <td>ohc</td>\n",
              "      <td>five</td>\n",
              "      <td>136</td>\n",
              "      <td>mpfi</td>\n",
              "      <td>3.19</td>\n",
              "      <td>3.40</td>\n",
              "      <td>8.0</td>\n",
              "      <td>115</td>\n",
              "      <td>5500</td>\n",
              "      <td>18</td>\n",
              "      <td>22</td>\n",
              "      <td>17450.0</td>\n",
              "    </tr>\n",
              "    <tr>\n",
              "      <th>...</th>\n",
              "      <td>...</td>\n",
              "      <td>...</td>\n",
              "      <td>...</td>\n",
              "      <td>...</td>\n",
              "      <td>...</td>\n",
              "      <td>...</td>\n",
              "      <td>...</td>\n",
              "      <td>...</td>\n",
              "      <td>...</td>\n",
              "      <td>...</td>\n",
              "      <td>...</td>\n",
              "      <td>...</td>\n",
              "      <td>...</td>\n",
              "      <td>...</td>\n",
              "      <td>...</td>\n",
              "      <td>...</td>\n",
              "      <td>...</td>\n",
              "      <td>...</td>\n",
              "      <td>...</td>\n",
              "      <td>...</td>\n",
              "      <td>...</td>\n",
              "      <td>...</td>\n",
              "      <td>...</td>\n",
              "      <td>...</td>\n",
              "      <td>...</td>\n",
              "      <td>...</td>\n",
              "    </tr>\n",
              "    <tr>\n",
              "      <th>200</th>\n",
              "      <td>201</td>\n",
              "      <td>-1</td>\n",
              "      <td>volvo 145e (sw)</td>\n",
              "      <td>gas</td>\n",
              "      <td>std</td>\n",
              "      <td>four</td>\n",
              "      <td>sedan</td>\n",
              "      <td>rwd</td>\n",
              "      <td>front</td>\n",
              "      <td>109.1</td>\n",
              "      <td>188.8</td>\n",
              "      <td>68.9</td>\n",
              "      <td>55.5</td>\n",
              "      <td>2952</td>\n",
              "      <td>ohc</td>\n",
              "      <td>four</td>\n",
              "      <td>141</td>\n",
              "      <td>mpfi</td>\n",
              "      <td>3.78</td>\n",
              "      <td>3.15</td>\n",
              "      <td>9.5</td>\n",
              "      <td>114</td>\n",
              "      <td>5400</td>\n",
              "      <td>23</td>\n",
              "      <td>28</td>\n",
              "      <td>16845.0</td>\n",
              "    </tr>\n",
              "    <tr>\n",
              "      <th>201</th>\n",
              "      <td>202</td>\n",
              "      <td>-1</td>\n",
              "      <td>volvo 144ea</td>\n",
              "      <td>gas</td>\n",
              "      <td>turbo</td>\n",
              "      <td>four</td>\n",
              "      <td>sedan</td>\n",
              "      <td>rwd</td>\n",
              "      <td>front</td>\n",
              "      <td>109.1</td>\n",
              "      <td>188.8</td>\n",
              "      <td>68.8</td>\n",
              "      <td>55.5</td>\n",
              "      <td>3049</td>\n",
              "      <td>ohc</td>\n",
              "      <td>four</td>\n",
              "      <td>141</td>\n",
              "      <td>mpfi</td>\n",
              "      <td>3.78</td>\n",
              "      <td>3.15</td>\n",
              "      <td>8.7</td>\n",
              "      <td>160</td>\n",
              "      <td>5300</td>\n",
              "      <td>19</td>\n",
              "      <td>25</td>\n",
              "      <td>19045.0</td>\n",
              "    </tr>\n",
              "    <tr>\n",
              "      <th>202</th>\n",
              "      <td>203</td>\n",
              "      <td>-1</td>\n",
              "      <td>volvo 244dl</td>\n",
              "      <td>gas</td>\n",
              "      <td>std</td>\n",
              "      <td>four</td>\n",
              "      <td>sedan</td>\n",
              "      <td>rwd</td>\n",
              "      <td>front</td>\n",
              "      <td>109.1</td>\n",
              "      <td>188.8</td>\n",
              "      <td>68.9</td>\n",
              "      <td>55.5</td>\n",
              "      <td>3012</td>\n",
              "      <td>ohcv</td>\n",
              "      <td>six</td>\n",
              "      <td>173</td>\n",
              "      <td>mpfi</td>\n",
              "      <td>3.58</td>\n",
              "      <td>2.87</td>\n",
              "      <td>8.8</td>\n",
              "      <td>134</td>\n",
              "      <td>5500</td>\n",
              "      <td>18</td>\n",
              "      <td>23</td>\n",
              "      <td>21485.0</td>\n",
              "    </tr>\n",
              "    <tr>\n",
              "      <th>203</th>\n",
              "      <td>204</td>\n",
              "      <td>-1</td>\n",
              "      <td>volvo 246</td>\n",
              "      <td>diesel</td>\n",
              "      <td>turbo</td>\n",
              "      <td>four</td>\n",
              "      <td>sedan</td>\n",
              "      <td>rwd</td>\n",
              "      <td>front</td>\n",
              "      <td>109.1</td>\n",
              "      <td>188.8</td>\n",
              "      <td>68.9</td>\n",
              "      <td>55.5</td>\n",
              "      <td>3217</td>\n",
              "      <td>ohc</td>\n",
              "      <td>six</td>\n",
              "      <td>145</td>\n",
              "      <td>idi</td>\n",
              "      <td>3.01</td>\n",
              "      <td>3.40</td>\n",
              "      <td>23.0</td>\n",
              "      <td>106</td>\n",
              "      <td>4800</td>\n",
              "      <td>26</td>\n",
              "      <td>27</td>\n",
              "      <td>22470.0</td>\n",
              "    </tr>\n",
              "    <tr>\n",
              "      <th>204</th>\n",
              "      <td>205</td>\n",
              "      <td>-1</td>\n",
              "      <td>volvo 264gl</td>\n",
              "      <td>gas</td>\n",
              "      <td>turbo</td>\n",
              "      <td>four</td>\n",
              "      <td>sedan</td>\n",
              "      <td>rwd</td>\n",
              "      <td>front</td>\n",
              "      <td>109.1</td>\n",
              "      <td>188.8</td>\n",
              "      <td>68.9</td>\n",
              "      <td>55.5</td>\n",
              "      <td>3062</td>\n",
              "      <td>ohc</td>\n",
              "      <td>four</td>\n",
              "      <td>141</td>\n",
              "      <td>mpfi</td>\n",
              "      <td>3.78</td>\n",
              "      <td>3.15</td>\n",
              "      <td>9.5</td>\n",
              "      <td>114</td>\n",
              "      <td>5400</td>\n",
              "      <td>19</td>\n",
              "      <td>25</td>\n",
              "      <td>22625.0</td>\n",
              "    </tr>\n",
              "  </tbody>\n",
              "</table>\n",
              "<p>205 rows × 26 columns</p>\n",
              "</div>"
            ],
            "text/plain": [
              "     car_ID  symboling                   CarName  ... citympg highwaympg    price\n",
              "0         1          3        alfa-romero giulia  ...      21         27  13495.0\n",
              "1         2          3       alfa-romero stelvio  ...      21         27  16500.0\n",
              "2         3          1  alfa-romero Quadrifoglio  ...      19         26  16500.0\n",
              "3         4          2               audi 100 ls  ...      24         30  13950.0\n",
              "4         5          2                audi 100ls  ...      18         22  17450.0\n",
              "..      ...        ...                       ...  ...     ...        ...      ...\n",
              "200     201         -1           volvo 145e (sw)  ...      23         28  16845.0\n",
              "201     202         -1               volvo 144ea  ...      19         25  19045.0\n",
              "202     203         -1               volvo 244dl  ...      18         23  21485.0\n",
              "203     204         -1                 volvo 246  ...      26         27  22470.0\n",
              "204     205         -1               volvo 264gl  ...      19         25  22625.0\n",
              "\n",
              "[205 rows x 26 columns]"
            ]
          },
          "metadata": {},
          "execution_count": 6
        }
      ]
    },
    {
      "cell_type": "markdown",
      "metadata": {
        "id": "ll6F69en4p-i"
      },
      "source": [
        "As we can see there are `205*26` table which means `205` number of examples we have train our model and `26` features which are important and effect in data training. "
      ]
    },
    {
      "cell_type": "markdown",
      "metadata": {
        "id": "FV5Hu7y35Ytw"
      },
      "source": [
        "So, now that we see the data and have snapshot, it's time to do some clarification on data. The fisrt thing that can be considrable is `car_ID` column. We are going to drop this column because it will not effective nor necessary. \n",
        "\n",
        "`pandas` will brings us column number for us. To do that we will use `.drop` function from `pandas` and implement `car_ID` column."
      ]
    },
    {
      "cell_type": "code",
      "metadata": {
        "id": "M0IYuTGbkWMy",
        "colab": {
          "base_uri": "https://localhost:8080/",
          "height": 531
        },
        "outputId": "b89001fc-7127-4b0a-a410-b45230a33a39"
      },
      "source": [
        "car_price = car_price.drop([\"car_ID\"], axis=1)\n",
        "car_price"
      ],
      "execution_count": 7,
      "outputs": [
        {
          "output_type": "execute_result",
          "data": {
            "text/html": [
              "<div>\n",
              "<style scoped>\n",
              "    .dataframe tbody tr th:only-of-type {\n",
              "        vertical-align: middle;\n",
              "    }\n",
              "\n",
              "    .dataframe tbody tr th {\n",
              "        vertical-align: top;\n",
              "    }\n",
              "\n",
              "    .dataframe thead th {\n",
              "        text-align: right;\n",
              "    }\n",
              "</style>\n",
              "<table border=\"1\" class=\"dataframe\">\n",
              "  <thead>\n",
              "    <tr style=\"text-align: right;\">\n",
              "      <th></th>\n",
              "      <th>symboling</th>\n",
              "      <th>CarName</th>\n",
              "      <th>fueltype</th>\n",
              "      <th>aspiration</th>\n",
              "      <th>doornumber</th>\n",
              "      <th>carbody</th>\n",
              "      <th>drivewheel</th>\n",
              "      <th>enginelocation</th>\n",
              "      <th>wheelbase</th>\n",
              "      <th>carlength</th>\n",
              "      <th>carwidth</th>\n",
              "      <th>carheight</th>\n",
              "      <th>curbweight</th>\n",
              "      <th>enginetype</th>\n",
              "      <th>cylindernumber</th>\n",
              "      <th>enginesize</th>\n",
              "      <th>fuelsystem</th>\n",
              "      <th>boreratio</th>\n",
              "      <th>stroke</th>\n",
              "      <th>compressionratio</th>\n",
              "      <th>horsepower</th>\n",
              "      <th>peakrpm</th>\n",
              "      <th>citympg</th>\n",
              "      <th>highwaympg</th>\n",
              "      <th>price</th>\n",
              "    </tr>\n",
              "  </thead>\n",
              "  <tbody>\n",
              "    <tr>\n",
              "      <th>0</th>\n",
              "      <td>3</td>\n",
              "      <td>alfa-romero giulia</td>\n",
              "      <td>gas</td>\n",
              "      <td>std</td>\n",
              "      <td>two</td>\n",
              "      <td>convertible</td>\n",
              "      <td>rwd</td>\n",
              "      <td>front</td>\n",
              "      <td>88.6</td>\n",
              "      <td>168.8</td>\n",
              "      <td>64.1</td>\n",
              "      <td>48.8</td>\n",
              "      <td>2548</td>\n",
              "      <td>dohc</td>\n",
              "      <td>four</td>\n",
              "      <td>130</td>\n",
              "      <td>mpfi</td>\n",
              "      <td>3.47</td>\n",
              "      <td>2.68</td>\n",
              "      <td>9.0</td>\n",
              "      <td>111</td>\n",
              "      <td>5000</td>\n",
              "      <td>21</td>\n",
              "      <td>27</td>\n",
              "      <td>13495.0</td>\n",
              "    </tr>\n",
              "    <tr>\n",
              "      <th>1</th>\n",
              "      <td>3</td>\n",
              "      <td>alfa-romero stelvio</td>\n",
              "      <td>gas</td>\n",
              "      <td>std</td>\n",
              "      <td>two</td>\n",
              "      <td>convertible</td>\n",
              "      <td>rwd</td>\n",
              "      <td>front</td>\n",
              "      <td>88.6</td>\n",
              "      <td>168.8</td>\n",
              "      <td>64.1</td>\n",
              "      <td>48.8</td>\n",
              "      <td>2548</td>\n",
              "      <td>dohc</td>\n",
              "      <td>four</td>\n",
              "      <td>130</td>\n",
              "      <td>mpfi</td>\n",
              "      <td>3.47</td>\n",
              "      <td>2.68</td>\n",
              "      <td>9.0</td>\n",
              "      <td>111</td>\n",
              "      <td>5000</td>\n",
              "      <td>21</td>\n",
              "      <td>27</td>\n",
              "      <td>16500.0</td>\n",
              "    </tr>\n",
              "    <tr>\n",
              "      <th>2</th>\n",
              "      <td>1</td>\n",
              "      <td>alfa-romero Quadrifoglio</td>\n",
              "      <td>gas</td>\n",
              "      <td>std</td>\n",
              "      <td>two</td>\n",
              "      <td>hatchback</td>\n",
              "      <td>rwd</td>\n",
              "      <td>front</td>\n",
              "      <td>94.5</td>\n",
              "      <td>171.2</td>\n",
              "      <td>65.5</td>\n",
              "      <td>52.4</td>\n",
              "      <td>2823</td>\n",
              "      <td>ohcv</td>\n",
              "      <td>six</td>\n",
              "      <td>152</td>\n",
              "      <td>mpfi</td>\n",
              "      <td>2.68</td>\n",
              "      <td>3.47</td>\n",
              "      <td>9.0</td>\n",
              "      <td>154</td>\n",
              "      <td>5000</td>\n",
              "      <td>19</td>\n",
              "      <td>26</td>\n",
              "      <td>16500.0</td>\n",
              "    </tr>\n",
              "    <tr>\n",
              "      <th>3</th>\n",
              "      <td>2</td>\n",
              "      <td>audi 100 ls</td>\n",
              "      <td>gas</td>\n",
              "      <td>std</td>\n",
              "      <td>four</td>\n",
              "      <td>sedan</td>\n",
              "      <td>fwd</td>\n",
              "      <td>front</td>\n",
              "      <td>99.8</td>\n",
              "      <td>176.6</td>\n",
              "      <td>66.2</td>\n",
              "      <td>54.3</td>\n",
              "      <td>2337</td>\n",
              "      <td>ohc</td>\n",
              "      <td>four</td>\n",
              "      <td>109</td>\n",
              "      <td>mpfi</td>\n",
              "      <td>3.19</td>\n",
              "      <td>3.40</td>\n",
              "      <td>10.0</td>\n",
              "      <td>102</td>\n",
              "      <td>5500</td>\n",
              "      <td>24</td>\n",
              "      <td>30</td>\n",
              "      <td>13950.0</td>\n",
              "    </tr>\n",
              "    <tr>\n",
              "      <th>4</th>\n",
              "      <td>2</td>\n",
              "      <td>audi 100ls</td>\n",
              "      <td>gas</td>\n",
              "      <td>std</td>\n",
              "      <td>four</td>\n",
              "      <td>sedan</td>\n",
              "      <td>4wd</td>\n",
              "      <td>front</td>\n",
              "      <td>99.4</td>\n",
              "      <td>176.6</td>\n",
              "      <td>66.4</td>\n",
              "      <td>54.3</td>\n",
              "      <td>2824</td>\n",
              "      <td>ohc</td>\n",
              "      <td>five</td>\n",
              "      <td>136</td>\n",
              "      <td>mpfi</td>\n",
              "      <td>3.19</td>\n",
              "      <td>3.40</td>\n",
              "      <td>8.0</td>\n",
              "      <td>115</td>\n",
              "      <td>5500</td>\n",
              "      <td>18</td>\n",
              "      <td>22</td>\n",
              "      <td>17450.0</td>\n",
              "    </tr>\n",
              "    <tr>\n",
              "      <th>...</th>\n",
              "      <td>...</td>\n",
              "      <td>...</td>\n",
              "      <td>...</td>\n",
              "      <td>...</td>\n",
              "      <td>...</td>\n",
              "      <td>...</td>\n",
              "      <td>...</td>\n",
              "      <td>...</td>\n",
              "      <td>...</td>\n",
              "      <td>...</td>\n",
              "      <td>...</td>\n",
              "      <td>...</td>\n",
              "      <td>...</td>\n",
              "      <td>...</td>\n",
              "      <td>...</td>\n",
              "      <td>...</td>\n",
              "      <td>...</td>\n",
              "      <td>...</td>\n",
              "      <td>...</td>\n",
              "      <td>...</td>\n",
              "      <td>...</td>\n",
              "      <td>...</td>\n",
              "      <td>...</td>\n",
              "      <td>...</td>\n",
              "      <td>...</td>\n",
              "    </tr>\n",
              "    <tr>\n",
              "      <th>200</th>\n",
              "      <td>-1</td>\n",
              "      <td>volvo 145e (sw)</td>\n",
              "      <td>gas</td>\n",
              "      <td>std</td>\n",
              "      <td>four</td>\n",
              "      <td>sedan</td>\n",
              "      <td>rwd</td>\n",
              "      <td>front</td>\n",
              "      <td>109.1</td>\n",
              "      <td>188.8</td>\n",
              "      <td>68.9</td>\n",
              "      <td>55.5</td>\n",
              "      <td>2952</td>\n",
              "      <td>ohc</td>\n",
              "      <td>four</td>\n",
              "      <td>141</td>\n",
              "      <td>mpfi</td>\n",
              "      <td>3.78</td>\n",
              "      <td>3.15</td>\n",
              "      <td>9.5</td>\n",
              "      <td>114</td>\n",
              "      <td>5400</td>\n",
              "      <td>23</td>\n",
              "      <td>28</td>\n",
              "      <td>16845.0</td>\n",
              "    </tr>\n",
              "    <tr>\n",
              "      <th>201</th>\n",
              "      <td>-1</td>\n",
              "      <td>volvo 144ea</td>\n",
              "      <td>gas</td>\n",
              "      <td>turbo</td>\n",
              "      <td>four</td>\n",
              "      <td>sedan</td>\n",
              "      <td>rwd</td>\n",
              "      <td>front</td>\n",
              "      <td>109.1</td>\n",
              "      <td>188.8</td>\n",
              "      <td>68.8</td>\n",
              "      <td>55.5</td>\n",
              "      <td>3049</td>\n",
              "      <td>ohc</td>\n",
              "      <td>four</td>\n",
              "      <td>141</td>\n",
              "      <td>mpfi</td>\n",
              "      <td>3.78</td>\n",
              "      <td>3.15</td>\n",
              "      <td>8.7</td>\n",
              "      <td>160</td>\n",
              "      <td>5300</td>\n",
              "      <td>19</td>\n",
              "      <td>25</td>\n",
              "      <td>19045.0</td>\n",
              "    </tr>\n",
              "    <tr>\n",
              "      <th>202</th>\n",
              "      <td>-1</td>\n",
              "      <td>volvo 244dl</td>\n",
              "      <td>gas</td>\n",
              "      <td>std</td>\n",
              "      <td>four</td>\n",
              "      <td>sedan</td>\n",
              "      <td>rwd</td>\n",
              "      <td>front</td>\n",
              "      <td>109.1</td>\n",
              "      <td>188.8</td>\n",
              "      <td>68.9</td>\n",
              "      <td>55.5</td>\n",
              "      <td>3012</td>\n",
              "      <td>ohcv</td>\n",
              "      <td>six</td>\n",
              "      <td>173</td>\n",
              "      <td>mpfi</td>\n",
              "      <td>3.58</td>\n",
              "      <td>2.87</td>\n",
              "      <td>8.8</td>\n",
              "      <td>134</td>\n",
              "      <td>5500</td>\n",
              "      <td>18</td>\n",
              "      <td>23</td>\n",
              "      <td>21485.0</td>\n",
              "    </tr>\n",
              "    <tr>\n",
              "      <th>203</th>\n",
              "      <td>-1</td>\n",
              "      <td>volvo 246</td>\n",
              "      <td>diesel</td>\n",
              "      <td>turbo</td>\n",
              "      <td>four</td>\n",
              "      <td>sedan</td>\n",
              "      <td>rwd</td>\n",
              "      <td>front</td>\n",
              "      <td>109.1</td>\n",
              "      <td>188.8</td>\n",
              "      <td>68.9</td>\n",
              "      <td>55.5</td>\n",
              "      <td>3217</td>\n",
              "      <td>ohc</td>\n",
              "      <td>six</td>\n",
              "      <td>145</td>\n",
              "      <td>idi</td>\n",
              "      <td>3.01</td>\n",
              "      <td>3.40</td>\n",
              "      <td>23.0</td>\n",
              "      <td>106</td>\n",
              "      <td>4800</td>\n",
              "      <td>26</td>\n",
              "      <td>27</td>\n",
              "      <td>22470.0</td>\n",
              "    </tr>\n",
              "    <tr>\n",
              "      <th>204</th>\n",
              "      <td>-1</td>\n",
              "      <td>volvo 264gl</td>\n",
              "      <td>gas</td>\n",
              "      <td>turbo</td>\n",
              "      <td>four</td>\n",
              "      <td>sedan</td>\n",
              "      <td>rwd</td>\n",
              "      <td>front</td>\n",
              "      <td>109.1</td>\n",
              "      <td>188.8</td>\n",
              "      <td>68.9</td>\n",
              "      <td>55.5</td>\n",
              "      <td>3062</td>\n",
              "      <td>ohc</td>\n",
              "      <td>four</td>\n",
              "      <td>141</td>\n",
              "      <td>mpfi</td>\n",
              "      <td>3.78</td>\n",
              "      <td>3.15</td>\n",
              "      <td>9.5</td>\n",
              "      <td>114</td>\n",
              "      <td>5400</td>\n",
              "      <td>19</td>\n",
              "      <td>25</td>\n",
              "      <td>22625.0</td>\n",
              "    </tr>\n",
              "  </tbody>\n",
              "</table>\n",
              "<p>205 rows × 25 columns</p>\n",
              "</div>"
            ],
            "text/plain": [
              "     symboling                   CarName fueltype  ... citympg highwaympg    price\n",
              "0            3        alfa-romero giulia      gas  ...      21         27  13495.0\n",
              "1            3       alfa-romero stelvio      gas  ...      21         27  16500.0\n",
              "2            1  alfa-romero Quadrifoglio      gas  ...      19         26  16500.0\n",
              "3            2               audi 100 ls      gas  ...      24         30  13950.0\n",
              "4            2                audi 100ls      gas  ...      18         22  17450.0\n",
              "..         ...                       ...      ...  ...     ...        ...      ...\n",
              "200         -1           volvo 145e (sw)      gas  ...      23         28  16845.0\n",
              "201         -1               volvo 144ea      gas  ...      19         25  19045.0\n",
              "202         -1               volvo 244dl      gas  ...      18         23  21485.0\n",
              "203         -1                 volvo 246   diesel  ...      26         27  22470.0\n",
              "204         -1               volvo 264gl      gas  ...      19         25  22625.0\n",
              "\n",
              "[205 rows x 25 columns]"
            ]
          },
          "metadata": {},
          "execution_count": 7
        }
      ]
    },
    {
      "cell_type": "markdown",
      "metadata": {
        "id": "9Vbzmglq6vTy"
      },
      "source": [
        "Now, another looking at our dataset, shows us `CarName` column again is not necessary, because we can handle data training without that.\n"
      ]
    },
    {
      "cell_type": "code",
      "metadata": {
        "id": "ljVmw6-LXYL6"
      },
      "source": [
        "car_price = car_price.drop([\"CarName\"], axis=1)"
      ],
      "execution_count": 8,
      "outputs": []
    },
    {
      "cell_type": "markdown",
      "metadata": {
        "id": "ydjl8CctzIv3"
      },
      "source": [
        "Now, our dataset has `24` columns."
      ]
    },
    {
      "cell_type": "code",
      "metadata": {
        "colab": {
          "base_uri": "https://localhost:8080/"
        },
        "id": "dCTQgd1YT5pD",
        "outputId": "4b862173-f203-400d-d5a8-df84244abbe2"
      },
      "source": [
        "car_price.loc[0].shape"
      ],
      "execution_count": 9,
      "outputs": [
        {
          "output_type": "execute_result",
          "data": {
            "text/plain": [
              "(24,)"
            ]
          },
          "metadata": {},
          "execution_count": 9
        }
      ]
    },
    {
      "cell_type": "code",
      "metadata": {
        "colab": {
          "base_uri": "https://localhost:8080/"
        },
        "id": "7eiCmMP-XM5p",
        "outputId": "578c7c25-5aeb-47af-e3be-16fd8adf3328"
      },
      "source": [
        "car_price.loc[0]"
      ],
      "execution_count": 10,
      "outputs": [
        {
          "output_type": "execute_result",
          "data": {
            "text/plain": [
              "symboling                     3\n",
              "fueltype                    gas\n",
              "aspiration                  std\n",
              "doornumber                  two\n",
              "carbody             convertible\n",
              "drivewheel                  rwd\n",
              "enginelocation            front\n",
              "wheelbase                  88.6\n",
              "carlength                 168.8\n",
              "carwidth                   64.1\n",
              "carheight                  48.8\n",
              "curbweight                 2548\n",
              "enginetype                 dohc\n",
              "cylindernumber             four\n",
              "enginesize                  130\n",
              "fuelsystem                 mpfi\n",
              "boreratio                  3.47\n",
              "stroke                     2.68\n",
              "compressionratio              9\n",
              "horsepower                  111\n",
              "peakrpm                    5000\n",
              "citympg                      21\n",
              "highwaympg                   27\n",
              "price                     13495\n",
              "Name: 0, dtype: object"
            ]
          },
          "metadata": {},
          "execution_count": 10
        }
      ]
    },
    {
      "cell_type": "markdown",
      "metadata": {
        "id": "0rOzdijVzRal"
      },
      "source": [
        "To start working our data and make machaine learning model we need some preprocessing. By evaluating our data it shows that we need **feature scaling** and **encoding** some data. \n",
        "\n",
        "We need feature scaling because we see some values are not in same range and we need encoding to omit _object_ data types and _categorized_ data.\n",
        "\n",
        "To do that we need some implementions of `scikitlearn` library:"
      ]
    },
    {
      "cell_type": "markdown",
      "metadata": {
        "id": "cKn2vDCa_mXt"
      },
      "source": [
        "## Preprocessing data:"
      ]
    },
    {
      "cell_type": "code",
      "metadata": {
        "id": "xDVNs8llWN6E"
      },
      "source": [
        "from sklearn.compose import make_column_transformer\n",
        "from sklearn.preprocessing import MinMaxScaler, OneHotEncoder\n",
        "from sklearn.model_selection import train_test_split"
      ],
      "execution_count": 11,
      "outputs": []
    },
    {
      "cell_type": "code",
      "metadata": {
        "id": "chTYMmJnXJp7"
      },
      "source": [
        "ct = make_column_transformer((MinMaxScaler(),\n",
        "                              [\"wheelbase\", \"carlength\", \"carwidth\", \"carheight\", \"curbweight\", \"enginesize\",\n",
        "                               \"boreratio\", \"stroke\", \"compressionratio\", \"horsepower\", \"peakrpm\",\n",
        "                               \"citympg\", \"highwaympg\"]),\n",
        "                             (OneHotEncoder(handle_unknown='ignore'),\n",
        "                              [\"fueltype\", \"aspiration\", \"doornumber\", \"carbody\", \"drivewheel\", \"enginelocation\",\n",
        "                               \"enginetype\", \"cylindernumber\", \"fuelsystem\"]))\n",
        "X = car_price.drop(\"price\", axis=1)\n",
        "y = car_price[\"price\"]"
      ],
      "execution_count": 12,
      "outputs": []
    },
    {
      "cell_type": "markdown",
      "metadata": {
        "id": "BnsXZKDv0ilL"
      },
      "source": [
        "Now, it's time to split data to `train` and `test` data. Again, `scikitlearn` will help us:"
      ]
    },
    {
      "cell_type": "code",
      "metadata": {
        "id": "2qlhwcV3Z0zX"
      },
      "source": [
        "X_train, X_test, y_train, y_test = train_test_split(X, y, test_size=0.2, random_state=42)"
      ],
      "execution_count": 13,
      "outputs": []
    },
    {
      "cell_type": "markdown",
      "metadata": {
        "id": "7KX35iTa1EPp"
      },
      "source": [
        "Next, we should fit our training data to our transformed date by using `fit` function:"
      ]
    },
    {
      "cell_type": "code",
      "metadata": {
        "colab": {
          "base_uri": "https://localhost:8080/"
        },
        "id": "z-alBQO6aE14",
        "outputId": "d3b43d05-11af-468d-80a0-406051ebcbfc"
      },
      "source": [
        "ct.fit(X_train)"
      ],
      "execution_count": 14,
      "outputs": [
        {
          "output_type": "execute_result",
          "data": {
            "text/plain": [
              "ColumnTransformer(transformers=[('minmaxscaler', MinMaxScaler(),\n",
              "                                 ['wheelbase', 'carlength', 'carwidth',\n",
              "                                  'carheight', 'curbweight', 'enginesize',\n",
              "                                  'boreratio', 'stroke', 'compressionratio',\n",
              "                                  'horsepower', 'peakrpm', 'citympg',\n",
              "                                  'highwaympg']),\n",
              "                                ('onehotencoder',\n",
              "                                 OneHotEncoder(handle_unknown='ignore'),\n",
              "                                 ['fueltype', 'aspiration', 'doornumber',\n",
              "                                  'carbody', 'drivewheel', 'enginelocation',\n",
              "                                  'enginetype', 'cylindernumber',\n",
              "                                  'fuelsystem'])])"
            ]
          },
          "metadata": {},
          "execution_count": 14
        }
      ]
    },
    {
      "cell_type": "markdown",
      "metadata": {
        "id": "xxEeCiZt1fjU"
      },
      "source": [
        "We fit transformed data only for trained data because there is no need to fit that to test data. Because our test data is ongoing data and feauture data don't need to be transformed. \n",
        "\n",
        "New variable is created and are ready to feed to the model: "
      ]
    },
    {
      "cell_type": "code",
      "metadata": {
        "id": "TDA68arAaH0O"
      },
      "source": [
        "X_train_normal = ct.transform(X_train)\n",
        "X_test_normal = ct.transform(X_test)"
      ],
      "execution_count": 15,
      "outputs": []
    },
    {
      "cell_type": "code",
      "metadata": {
        "colab": {
          "base_uri": "https://localhost:8080/"
        },
        "id": "T0rnT3ejaVsH",
        "outputId": "2903d9a5-63e2-41a2-ac21-f84979b410e7"
      },
      "source": [
        "X_train.loc[0]"
      ],
      "execution_count": 16,
      "outputs": [
        {
          "output_type": "execute_result",
          "data": {
            "text/plain": [
              "symboling                     3\n",
              "fueltype                    gas\n",
              "aspiration                  std\n",
              "doornumber                  two\n",
              "carbody             convertible\n",
              "drivewheel                  rwd\n",
              "enginelocation            front\n",
              "wheelbase                  88.6\n",
              "carlength                 168.8\n",
              "carwidth                   64.1\n",
              "carheight                  48.8\n",
              "curbweight                 2548\n",
              "enginetype                 dohc\n",
              "cylindernumber             four\n",
              "enginesize                  130\n",
              "fuelsystem                 mpfi\n",
              "boreratio                  3.47\n",
              "stroke                     2.68\n",
              "compressionratio              9\n",
              "horsepower                  111\n",
              "peakrpm                    5000\n",
              "citympg                      21\n",
              "highwaympg                   27\n",
              "Name: 0, dtype: object"
            ]
          },
          "metadata": {},
          "execution_count": 16
        }
      ]
    },
    {
      "cell_type": "code",
      "metadata": {
        "colab": {
          "base_uri": "https://localhost:8080/"
        },
        "id": "RFeYFzyDaa6P",
        "outputId": "e860a1ba-cb04-45da-c2e5-7465e5deaae7"
      },
      "source": [
        "X_train_normal[0].shape"
      ],
      "execution_count": 17,
      "outputs": [
        {
          "output_type": "execute_result",
          "data": {
            "text/plain": [
              "(50,)"
            ]
          },
          "metadata": {},
          "execution_count": 17
        }
      ]
    },
    {
      "cell_type": "markdown",
      "metadata": {
        "id": "WBussbPy_1Oz"
      },
      "source": [
        "## Implementing model:"
      ]
    },
    {
      "cell_type": "markdown",
      "metadata": {
        "id": "qxjbEh_72bQf"
      },
      "source": [
        "As can be seen our dataset has `50` columns which show that we could transform our data to be trainable.\n",
        "\n",
        "And nowl, we make a variable `model` and make our `DNN` for **Linear Regression**:"
      ]
    },
    {
      "cell_type": "code",
      "metadata": {
        "id": "VkgMlo2Fac9S"
      },
      "source": [
        "tf.random.set_seed(42)"
      ],
      "execution_count": 18,
      "outputs": []
    },
    {
      "cell_type": "markdown",
      "metadata": {
        "id": "a5oNce202-xx"
      },
      "source": [
        "We will begine our model creation with two layers. One hidden layer with 10 units and second and output one, with single output layer:"
      ]
    },
    {
      "cell_type": "code",
      "metadata": {
        "colab": {
          "base_uri": "https://localhost:8080/"
        },
        "id": "KeF90bS4auqw",
        "outputId": "fbeb911c-d683-4a9d-b1fc-9eb9a9471726"
      },
      "source": [
        "model = tf.keras.Sequential([tf.keras.layers.Dense(10),\n",
        "                             tf.keras.layers.Dense(1)])\n",
        "model.compile(loss=tf.keras.losses.mae, optimizer=tf.keras.optimizers.SGD(), metrics=['mae'])\n",
        "history = model.fit(X_train_normal, y_train, epochs=100)"
      ],
      "execution_count": 19,
      "outputs": [
        {
          "output_type": "stream",
          "name": "stdout",
          "text": [
            "Epoch 1/100\n",
            "6/6 [==============================] - 1s 2ms/step - loss: 13222.9463 - mae: 13222.9463\n",
            "Epoch 2/100\n",
            "6/6 [==============================] - 0s 3ms/step - loss: 13221.8232 - mae: 13221.8232\n",
            "Epoch 3/100\n",
            "6/6 [==============================] - 0s 2ms/step - loss: 13220.5273 - mae: 13220.5273\n",
            "Epoch 4/100\n",
            "6/6 [==============================] - 0s 2ms/step - loss: 13218.8887 - mae: 13218.8887\n",
            "Epoch 5/100\n",
            "6/6 [==============================] - 0s 2ms/step - loss: 13216.7344 - mae: 13216.7344\n",
            "Epoch 6/100\n",
            "6/6 [==============================] - 0s 2ms/step - loss: 13213.7910 - mae: 13213.7910\n",
            "Epoch 7/100\n",
            "6/6 [==============================] - 0s 2ms/step - loss: 13209.7100 - mae: 13209.7100\n",
            "Epoch 8/100\n",
            "6/6 [==============================] - 0s 3ms/step - loss: 13204.0244 - mae: 13204.0244\n",
            "Epoch 9/100\n",
            "6/6 [==============================] - 0s 2ms/step - loss: 13196.0762 - mae: 13196.0762\n",
            "Epoch 10/100\n",
            "6/6 [==============================] - 0s 2ms/step - loss: 13184.7959 - mae: 13184.7959\n",
            "Epoch 11/100\n",
            "6/6 [==============================] - 0s 2ms/step - loss: 13168.8535 - mae: 13168.8535\n",
            "Epoch 12/100\n",
            "6/6 [==============================] - 0s 2ms/step - loss: 13146.3975 - mae: 13146.3975\n",
            "Epoch 13/100\n",
            "6/6 [==============================] - 0s 2ms/step - loss: 13114.5732 - mae: 13114.5732\n",
            "Epoch 14/100\n",
            "6/6 [==============================] - 0s 2ms/step - loss: 13070.2773 - mae: 13070.2773\n",
            "Epoch 15/100\n",
            "6/6 [==============================] - 0s 2ms/step - loss: 13008.0439 - mae: 13008.0439\n",
            "Epoch 16/100\n",
            "6/6 [==============================] - 0s 2ms/step - loss: 12918.9834 - mae: 12918.9834\n",
            "Epoch 17/100\n",
            "6/6 [==============================] - 0s 2ms/step - loss: 12793.2939 - mae: 12793.2939\n",
            "Epoch 18/100\n",
            "6/6 [==============================] - 0s 3ms/step - loss: 12614.0801 - mae: 12614.0801\n",
            "Epoch 19/100\n",
            "6/6 [==============================] - 0s 2ms/step - loss: 12361.6992 - mae: 12361.6992\n",
            "Epoch 20/100\n",
            "6/6 [==============================] - 0s 2ms/step - loss: 12005.3662 - mae: 12005.3662\n",
            "Epoch 21/100\n",
            "6/6 [==============================] - 0s 2ms/step - loss: 11498.7832 - mae: 11498.7832\n",
            "Epoch 22/100\n",
            "6/6 [==============================] - 0s 3ms/step - loss: 10783.4238 - mae: 10783.4238\n",
            "Epoch 23/100\n",
            "6/6 [==============================] - 0s 2ms/step - loss: 9767.3428 - mae: 9767.3428\n",
            "Epoch 24/100\n",
            "6/6 [==============================] - 0s 4ms/step - loss: 8328.3633 - mae: 8328.3633\n",
            "Epoch 25/100\n",
            "6/6 [==============================] - 0s 2ms/step - loss: 6708.5527 - mae: 6708.5527\n",
            "Epoch 26/100\n",
            "6/6 [==============================] - 0s 3ms/step - loss: 5845.4312 - mae: 5845.4312\n",
            "Epoch 27/100\n",
            "6/6 [==============================] - 0s 3ms/step - loss: 5524.4487 - mae: 5524.4487\n",
            "Epoch 28/100\n",
            "6/6 [==============================] - 0s 3ms/step - loss: 5390.9424 - mae: 5390.9424\n",
            "Epoch 29/100\n",
            "6/6 [==============================] - 0s 3ms/step - loss: 5251.3774 - mae: 5251.3774\n",
            "Epoch 30/100\n",
            "6/6 [==============================] - 0s 3ms/step - loss: 5090.6411 - mae: 5090.6411\n",
            "Epoch 31/100\n",
            "6/6 [==============================] - 0s 4ms/step - loss: 4989.3789 - mae: 4989.3789\n",
            "Epoch 32/100\n",
            "6/6 [==============================] - 0s 4ms/step - loss: 4847.3726 - mae: 4847.3726\n",
            "Epoch 33/100\n",
            "6/6 [==============================] - 0s 3ms/step - loss: 4722.4536 - mae: 4722.4536\n",
            "Epoch 34/100\n",
            "6/6 [==============================] - 0s 4ms/step - loss: 4569.4492 - mae: 4569.4492\n",
            "Epoch 35/100\n",
            "6/6 [==============================] - 0s 3ms/step - loss: 4478.1763 - mae: 4478.1763\n",
            "Epoch 36/100\n",
            "6/6 [==============================] - 0s 4ms/step - loss: 4326.4307 - mae: 4326.4307\n",
            "Epoch 37/100\n",
            "6/6 [==============================] - 0s 2ms/step - loss: 4188.7334 - mae: 4188.7334\n",
            "Epoch 38/100\n",
            "6/6 [==============================] - 0s 3ms/step - loss: 4030.1052 - mae: 4030.1052\n",
            "Epoch 39/100\n",
            "6/6 [==============================] - 0s 2ms/step - loss: 3874.3621 - mae: 3874.3621\n",
            "Epoch 40/100\n",
            "6/6 [==============================] - 0s 3ms/step - loss: 3699.3457 - mae: 3699.3457\n",
            "Epoch 41/100\n",
            "6/6 [==============================] - 0s 3ms/step - loss: 3540.4741 - mae: 3540.4741\n",
            "Epoch 42/100\n",
            "6/6 [==============================] - 0s 2ms/step - loss: 3452.3323 - mae: 3452.3323\n",
            "Epoch 43/100\n",
            "6/6 [==============================] - 0s 3ms/step - loss: 3276.8772 - mae: 3276.8772\n",
            "Epoch 44/100\n",
            "6/6 [==============================] - 0s 2ms/step - loss: 3129.4070 - mae: 3129.4070\n",
            "Epoch 45/100\n",
            "6/6 [==============================] - 0s 3ms/step - loss: 3041.1313 - mae: 3041.1313\n",
            "Epoch 46/100\n",
            "6/6 [==============================] - 0s 3ms/step - loss: 2943.7837 - mae: 2943.7837\n",
            "Epoch 47/100\n",
            "6/6 [==============================] - 0s 4ms/step - loss: 2872.6218 - mae: 2872.6218\n",
            "Epoch 48/100\n",
            "6/6 [==============================] - 0s 3ms/step - loss: 2828.1770 - mae: 2828.1770\n",
            "Epoch 49/100\n",
            "6/6 [==============================] - 0s 3ms/step - loss: 2804.2131 - mae: 2804.2131\n",
            "Epoch 50/100\n",
            "6/6 [==============================] - 0s 3ms/step - loss: 2825.5149 - mae: 2825.5149\n",
            "Epoch 51/100\n",
            "6/6 [==============================] - 0s 2ms/step - loss: 2786.6904 - mae: 2786.6904\n",
            "Epoch 52/100\n",
            "6/6 [==============================] - 0s 2ms/step - loss: 2769.7891 - mae: 2769.7891\n",
            "Epoch 53/100\n",
            "6/6 [==============================] - 0s 2ms/step - loss: 2746.2622 - mae: 2746.2622\n",
            "Epoch 54/100\n",
            "6/6 [==============================] - 0s 2ms/step - loss: 2704.7502 - mae: 2704.7502\n",
            "Epoch 55/100\n",
            "6/6 [==============================] - 0s 2ms/step - loss: 2695.6689 - mae: 2695.6689\n",
            "Epoch 56/100\n",
            "6/6 [==============================] - 0s 3ms/step - loss: 2713.5437 - mae: 2713.5437\n",
            "Epoch 57/100\n",
            "6/6 [==============================] - 0s 4ms/step - loss: 2675.9585 - mae: 2675.9585\n",
            "Epoch 58/100\n",
            "6/6 [==============================] - 0s 3ms/step - loss: 2683.0110 - mae: 2683.0110\n",
            "Epoch 59/100\n",
            "6/6 [==============================] - 0s 2ms/step - loss: 2661.5337 - mae: 2661.5337\n",
            "Epoch 60/100\n",
            "6/6 [==============================] - 0s 3ms/step - loss: 2651.2681 - mae: 2651.2681\n",
            "Epoch 61/100\n",
            "6/6 [==============================] - 0s 2ms/step - loss: 2634.4143 - mae: 2634.4143\n",
            "Epoch 62/100\n",
            "6/6 [==============================] - 0s 2ms/step - loss: 2656.8364 - mae: 2656.8364\n",
            "Epoch 63/100\n",
            "6/6 [==============================] - 0s 3ms/step - loss: 2630.1892 - mae: 2630.1892\n",
            "Epoch 64/100\n",
            "6/6 [==============================] - 0s 3ms/step - loss: 2633.5474 - mae: 2633.5474\n",
            "Epoch 65/100\n",
            "6/6 [==============================] - 0s 2ms/step - loss: 2622.6323 - mae: 2622.6323\n",
            "Epoch 66/100\n",
            "6/6 [==============================] - 0s 3ms/step - loss: 2592.7134 - mae: 2592.7134\n",
            "Epoch 67/100\n",
            "6/6 [==============================] - 0s 3ms/step - loss: 2588.6262 - mae: 2588.6262\n",
            "Epoch 68/100\n",
            "6/6 [==============================] - 0s 2ms/step - loss: 2583.5674 - mae: 2583.5674\n",
            "Epoch 69/100\n",
            "6/6 [==============================] - 0s 3ms/step - loss: 2567.6433 - mae: 2567.6433\n",
            "Epoch 70/100\n",
            "6/6 [==============================] - 0s 2ms/step - loss: 2586.7295 - mae: 2586.7295\n",
            "Epoch 71/100\n",
            "6/6 [==============================] - 0s 2ms/step - loss: 2552.1235 - mae: 2552.1235\n",
            "Epoch 72/100\n",
            "6/6 [==============================] - 0s 2ms/step - loss: 2552.0576 - mae: 2552.0576\n",
            "Epoch 73/100\n",
            "6/6 [==============================] - 0s 2ms/step - loss: 2542.4751 - mae: 2542.4751\n",
            "Epoch 74/100\n",
            "6/6 [==============================] - 0s 3ms/step - loss: 2533.2568 - mae: 2533.2568\n",
            "Epoch 75/100\n",
            "6/6 [==============================] - 0s 4ms/step - loss: 2520.9370 - mae: 2520.9370\n",
            "Epoch 76/100\n",
            "6/6 [==============================] - 0s 2ms/step - loss: 2497.5115 - mae: 2497.5115\n",
            "Epoch 77/100\n",
            "6/6 [==============================] - 0s 3ms/step - loss: 2507.2244 - mae: 2507.2244\n",
            "Epoch 78/100\n",
            "6/6 [==============================] - 0s 2ms/step - loss: 2512.4695 - mae: 2512.4695\n",
            "Epoch 79/100\n",
            "6/6 [==============================] - 0s 2ms/step - loss: 2487.8567 - mae: 2487.8567\n",
            "Epoch 80/100\n",
            "6/6 [==============================] - 0s 3ms/step - loss: 2486.7417 - mae: 2486.7417\n",
            "Epoch 81/100\n",
            "6/6 [==============================] - 0s 3ms/step - loss: 2499.7380 - mae: 2499.7380\n",
            "Epoch 82/100\n",
            "6/6 [==============================] - 0s 2ms/step - loss: 2487.7104 - mae: 2487.7104\n",
            "Epoch 83/100\n",
            "6/6 [==============================] - 0s 3ms/step - loss: 2442.0066 - mae: 2442.0066\n",
            "Epoch 84/100\n",
            "6/6 [==============================] - 0s 2ms/step - loss: 2436.8611 - mae: 2436.8611\n",
            "Epoch 85/100\n",
            "6/6 [==============================] - 0s 2ms/step - loss: 2429.4519 - mae: 2429.4519\n",
            "Epoch 86/100\n",
            "6/6 [==============================] - 0s 2ms/step - loss: 2427.0369 - mae: 2427.0369\n",
            "Epoch 87/100\n",
            "6/6 [==============================] - 0s 2ms/step - loss: 2397.9666 - mae: 2397.9666\n",
            "Epoch 88/100\n",
            "6/6 [==============================] - 0s 3ms/step - loss: 2459.0742 - mae: 2459.0742\n",
            "Epoch 89/100\n",
            "6/6 [==============================] - 0s 2ms/step - loss: 2388.8650 - mae: 2388.8650\n",
            "Epoch 90/100\n",
            "6/6 [==============================] - 0s 2ms/step - loss: 2415.6853 - mae: 2415.6853\n",
            "Epoch 91/100\n",
            "6/6 [==============================] - 0s 3ms/step - loss: 2463.9370 - mae: 2463.9370\n",
            "Epoch 92/100\n",
            "6/6 [==============================] - 0s 3ms/step - loss: 2383.6704 - mae: 2383.6704\n",
            "Epoch 93/100\n",
            "6/6 [==============================] - 0s 3ms/step - loss: 2375.8560 - mae: 2375.8560\n",
            "Epoch 94/100\n",
            "6/6 [==============================] - 0s 3ms/step - loss: 2353.9426 - mae: 2353.9426\n",
            "Epoch 95/100\n",
            "6/6 [==============================] - 0s 3ms/step - loss: 2343.5369 - mae: 2343.5369\n",
            "Epoch 96/100\n",
            "6/6 [==============================] - 0s 2ms/step - loss: 2360.7222 - mae: 2360.7222\n",
            "Epoch 97/100\n",
            "6/6 [==============================] - 0s 3ms/step - loss: 2353.9326 - mae: 2353.9326\n",
            "Epoch 98/100\n",
            "6/6 [==============================] - 0s 3ms/step - loss: 2374.3059 - mae: 2374.3059\n",
            "Epoch 99/100\n",
            "6/6 [==============================] - 0s 2ms/step - loss: 2414.4631 - mae: 2414.4631\n",
            "Epoch 100/100\n",
            "6/6 [==============================] - 0s 2ms/step - loss: 2346.2393 - mae: 2346.2393\n"
          ]
        }
      ]
    },
    {
      "cell_type": "markdown",
      "metadata": {
        "id": "yvtGul-I__gC"
      },
      "source": [
        "### Evaluating the model:"
      ]
    },
    {
      "cell_type": "markdown",
      "metadata": {
        "id": "At4P08123tyV"
      },
      "source": [
        "We can evaluate our model by plotting `loss function` and see if it is minimizing or not. \n",
        "\n",
        "Because we use `mean absolute error` principles to reduce `error` we can see it's effects to model precision analysis:"
      ]
    },
    {
      "cell_type": "code",
      "metadata": {
        "colab": {
          "base_uri": "https://localhost:8080/",
          "height": 296
        },
        "id": "L-Yt6XfibNar",
        "outputId": "bba2c8b0-4936-4e7b-e67c-e308063509d1"
      },
      "source": [
        "pd.DataFrame(history.history).plot()\n",
        "plt.xlabel(\"epochs\")\n",
        "plt.ylabel(\"loss\")"
      ],
      "execution_count": 20,
      "outputs": [
        {
          "output_type": "execute_result",
          "data": {
            "text/plain": [
              "Text(0, 0.5, 'loss')"
            ]
          },
          "metadata": {},
          "execution_count": 20
        },
        {
          "output_type": "display_data",
          "data": {
            "image/png": "[encoded data removed]",
            "text/plain": [
              "<Figure size 432x288 with 1 Axes>"
            ]
          },
          "metadata": {
            "needs_background": "light"
          }
        }
      ]
    },
    {
      "cell_type": "markdown",
      "metadata": {
        "id": "3BqYwne25oG-"
      },
      "source": [
        "By calling `evaluate` function we can see our `mae` to evaluate `error`:"
      ]
    },
    {
      "cell_type": "code",
      "metadata": {
        "colab": {
          "base_uri": "https://localhost:8080/"
        },
        "id": "eforE31dbjIj",
        "outputId": "0f13232c-49be-4b84-d00f-b32f6b9fa406"
      },
      "source": [
        "model.evaluate(X_test_normal, y_test)"
      ],
      "execution_count": 21,
      "outputs": [
        {
          "output_type": "stream",
          "name": "stdout",
          "text": [
            "2/2 [==============================] - 0s 6ms/step - loss: 2779.8079 - mae: 2779.8079\n"
          ]
        },
        {
          "output_type": "execute_result",
          "data": {
            "text/plain": [
              "[2779.807861328125, 2779.807861328125]"
            ]
          },
          "metadata": {},
          "execution_count": 21
        }
      ]
    },
    {
      "cell_type": "markdown",
      "metadata": {
        "id": "ltgF0Mts56X6"
      },
      "source": [
        "And to see the model precision we can make a value and feed test data as argument and call `predict` model:"
      ]
    },
    {
      "cell_type": "code",
      "metadata": {
        "id": "DzEbxqPddG0J"
      },
      "source": [
        "y_pred = model.predict(X_test_normal)"
      ],
      "execution_count": 22,
      "outputs": []
    },
    {
      "cell_type": "markdown",
      "metadata": {
        "id": "Gej37BzU6gR_"
      },
      "source": [
        "Here we can plot our result by calling a column instance, for example `peakrpm`:"
      ]
    },
    {
      "cell_type": "code",
      "metadata": {
        "colab": {
          "base_uri": "https://localhost:8080/",
          "height": 282
        },
        "id": "Vi-iOLYecrC3",
        "outputId": "84232b9c-bf11-476b-c16b-dd0a4d62a2de"
      },
      "source": [
        "plt.scatter(X_test['peakrpm'], y_test, c='b')\n",
        "plt.scatter(X_test['peakrpm'], y_pred, c='r')"
      ],
      "execution_count": 23,
      "outputs": [
        {
          "output_type": "execute_result",
          "data": {
            "text/plain": [
              "<matplotlib.collections.PathCollection at 0x7f91900cb690>"
            ]
          },
          "metadata": {},
          "execution_count": 23
        },
        {
          "output_type": "display_data",
          "data": {
            "image/png": "[encoded data removed]",
            "text/plain": [
              "<Figure size 432x288 with 1 Axes>"
            ]
          },
          "metadata": {
            "needs_background": "light"
          }
        }
      ]
    },
    {
      "cell_type": "markdown",
      "metadata": {
        "id": "Z8766R027brc"
      },
      "source": [
        "👆 Red dots show our predicted data and the blue ones are our test data.\n",
        "\n"
      ]
    },
    {
      "cell_type": "markdown",
      "metadata": {
        "id": "n0Kep6IGAIWq"
      },
      "source": [
        "### Experimenting the model:"
      ]
    },
    {
      "cell_type": "markdown",
      "metadata": {
        "id": "MslqqVdSANRh"
      },
      "source": [
        "👇 As we know **machine learning** is visualizing and experiment. Now, we are going to some experiment and see can we reduce `mae` and get more precise result. We will use two hidden layers and their units and use `adam` optimizer instead of `stochastic gradient descent`. finally, we will increase `epochs`:"
      ]
    },
    {
      "cell_type": "code",
      "metadata": {
        "id": "njy4f1RJfLWy"
      },
      "source": [
        "tf.random.set_seed(42)"
      ],
      "execution_count": 24,
      "outputs": []
    },
    {
      "cell_type": "code",
      "metadata": {
        "colab": {
          "base_uri": "https://localhost:8080/"
        },
        "id": "smMB_E5Uc9Kn",
        "outputId": "c5c8cdc1-9fb8-409d-8dbe-f22ea3826fa2"
      },
      "source": [
        "model_2 = tf.keras.Sequential([tf.keras.layers.Dense(40),\n",
        "                               tf.keras.layers.Dense(10),\n",
        "                               tf.keras.layers.Dense(1)])\n",
        "model_2.compile(loss=tf.keras.losses.mae, optimizer=tf.keras.optimizers.Adam(learning_rate=0.01), metrics=['mae'])\n",
        "history_2 = model_2.fit(X_train_normal, y_train, epochs=200)"
      ],
      "execution_count": 25,
      "outputs": [
        {
          "output_type": "stream",
          "name": "stdout",
          "text": [
            "Epoch 1/200\n",
            "6/6 [==============================] - 0s 3ms/step - loss: 13217.9072 - mae: 13217.9072\n",
            "Epoch 2/200\n",
            "6/6 [==============================] - 0s 3ms/step - loss: 13195.9492 - mae: 13195.9492\n",
            "Epoch 3/200\n",
            "6/6 [==============================] - 0s 2ms/step - loss: 13149.2148 - mae: 13149.2148\n",
            "Epoch 4/200\n",
            "6/6 [==============================] - 0s 2ms/step - loss: 13061.1328 - mae: 13061.1328\n",
            "Epoch 5/200\n",
            "6/6 [==============================] - 0s 2ms/step - loss: 12910.1680 - mae: 12910.1680\n",
            "Epoch 6/200\n",
            "6/6 [==============================] - 0s 2ms/step - loss: 12669.7686 - mae: 12669.7686\n",
            "Epoch 7/200\n",
            "6/6 [==============================] - 0s 4ms/step - loss: 12305.8496 - mae: 12305.8496\n",
            "Epoch 8/200\n",
            "6/6 [==============================] - 0s 3ms/step - loss: 11783.1367 - mae: 11783.1367\n",
            "Epoch 9/200\n",
            "6/6 [==============================] - 0s 2ms/step - loss: 11052.6582 - mae: 11052.6582\n",
            "Epoch 10/200\n",
            "6/6 [==============================] - 0s 2ms/step - loss: 10067.3711 - mae: 10067.3711\n",
            "Epoch 11/200\n",
            "6/6 [==============================] - 0s 3ms/step - loss: 8773.9854 - mae: 8773.9854\n",
            "Epoch 12/200\n",
            "6/6 [==============================] - 0s 4ms/step - loss: 7155.5000 - mae: 7155.5000\n",
            "Epoch 13/200\n",
            "6/6 [==============================] - 0s 3ms/step - loss: 5662.3984 - mae: 5662.3984\n",
            "Epoch 14/200\n",
            "6/6 [==============================] - 0s 3ms/step - loss: 5123.9263 - mae: 5123.9263\n",
            "Epoch 15/200\n",
            "6/6 [==============================] - 0s 3ms/step - loss: 4971.3760 - mae: 4971.3760\n",
            "Epoch 16/200\n",
            "6/6 [==============================] - 0s 3ms/step - loss: 4945.4419 - mae: 4945.4419\n",
            "Epoch 17/200\n",
            "6/6 [==============================] - 0s 2ms/step - loss: 4831.4629 - mae: 4831.4629\n",
            "Epoch 18/200\n",
            "6/6 [==============================] - 0s 3ms/step - loss: 4619.1895 - mae: 4619.1895\n",
            "Epoch 19/200\n",
            "6/6 [==============================] - 0s 3ms/step - loss: 4425.4126 - mae: 4425.4126\n",
            "Epoch 20/200\n",
            "6/6 [==============================] - 0s 3ms/step - loss: 4258.1191 - mae: 4258.1191\n",
            "Epoch 21/200\n",
            "6/6 [==============================] - 0s 3ms/step - loss: 4131.7607 - mae: 4131.7607\n",
            "Epoch 22/200\n",
            "6/6 [==============================] - 0s 3ms/step - loss: 4025.6855 - mae: 4025.6855\n",
            "Epoch 23/200\n",
            "6/6 [==============================] - 0s 3ms/step - loss: 3883.6399 - mae: 3883.6399\n",
            "Epoch 24/200\n",
            "6/6 [==============================] - 0s 4ms/step - loss: 3753.6699 - mae: 3753.6699\n",
            "Epoch 25/200\n",
            "6/6 [==============================] - 0s 5ms/step - loss: 3628.6326 - mae: 3628.6326\n",
            "Epoch 26/200\n",
            "6/6 [==============================] - 0s 4ms/step - loss: 3502.4648 - mae: 3502.4648\n",
            "Epoch 27/200\n",
            "6/6 [==============================] - 0s 3ms/step - loss: 3382.1541 - mae: 3382.1541\n",
            "Epoch 28/200\n",
            "6/6 [==============================] - 0s 3ms/step - loss: 3258.2424 - mae: 3258.2424\n",
            "Epoch 29/200\n",
            "6/6 [==============================] - 0s 3ms/step - loss: 3129.0708 - mae: 3129.0708\n",
            "Epoch 30/200\n",
            "6/6 [==============================] - 0s 2ms/step - loss: 3013.2229 - mae: 3013.2229\n",
            "Epoch 31/200\n",
            "6/6 [==============================] - 0s 3ms/step - loss: 2910.9421 - mae: 2910.9421\n",
            "Epoch 32/200\n",
            "6/6 [==============================] - 0s 2ms/step - loss: 2805.2524 - mae: 2805.2524\n",
            "Epoch 33/200\n",
            "6/6 [==============================] - 0s 3ms/step - loss: 2715.5146 - mae: 2715.5146\n",
            "Epoch 34/200\n",
            "6/6 [==============================] - 0s 3ms/step - loss: 2642.6399 - mae: 2642.6399\n",
            "Epoch 35/200\n",
            "6/6 [==============================] - 0s 2ms/step - loss: 2578.1128 - mae: 2578.1128\n",
            "Epoch 36/200\n",
            "6/6 [==============================] - 0s 3ms/step - loss: 2545.1985 - mae: 2545.1985\n",
            "Epoch 37/200\n",
            "6/6 [==============================] - 0s 3ms/step - loss: 2512.0691 - mae: 2512.0691\n",
            "Epoch 38/200\n",
            "6/6 [==============================] - 0s 2ms/step - loss: 2510.7053 - mae: 2510.7053\n",
            "Epoch 39/200\n",
            "6/6 [==============================] - 0s 3ms/step - loss: 2484.6375 - mae: 2484.6375\n",
            "Epoch 40/200\n",
            "6/6 [==============================] - 0s 3ms/step - loss: 2480.5732 - mae: 2480.5732\n",
            "Epoch 41/200\n",
            "6/6 [==============================] - 0s 3ms/step - loss: 2444.8708 - mae: 2444.8708\n",
            "Epoch 42/200\n",
            "6/6 [==============================] - 0s 3ms/step - loss: 2445.6104 - mae: 2445.6104\n",
            "Epoch 43/200\n",
            "6/6 [==============================] - 0s 3ms/step - loss: 2411.7678 - mae: 2411.7678\n",
            "Epoch 44/200\n",
            "6/6 [==============================] - 0s 3ms/step - loss: 2397.1592 - mae: 2397.1592\n",
            "Epoch 45/200\n",
            "6/6 [==============================] - 0s 3ms/step - loss: 2384.2710 - mae: 2384.2710\n",
            "Epoch 46/200\n",
            "6/6 [==============================] - 0s 3ms/step - loss: 2373.3120 - mae: 2373.3120\n",
            "Epoch 47/200\n",
            "6/6 [==============================] - 0s 5ms/step - loss: 2360.2341 - mae: 2360.2341\n",
            "Epoch 48/200\n",
            "6/6 [==============================] - 0s 5ms/step - loss: 2342.5024 - mae: 2342.5024\n",
            "Epoch 49/200\n",
            "6/6 [==============================] - 0s 3ms/step - loss: 2340.9834 - mae: 2340.9834\n",
            "Epoch 50/200\n",
            "6/6 [==============================] - 0s 3ms/step - loss: 2350.7998 - mae: 2350.7998\n",
            "Epoch 51/200\n",
            "6/6 [==============================] - 0s 3ms/step - loss: 2318.1123 - mae: 2318.1123\n",
            "Epoch 52/200\n",
            "6/6 [==============================] - 0s 4ms/step - loss: 2306.1167 - mae: 2306.1167\n",
            "Epoch 53/200\n",
            "6/6 [==============================] - 0s 3ms/step - loss: 2309.4927 - mae: 2309.4927\n",
            "Epoch 54/200\n",
            "6/6 [==============================] - 0s 3ms/step - loss: 2281.4329 - mae: 2281.4329\n",
            "Epoch 55/200\n",
            "6/6 [==============================] - 0s 3ms/step - loss: 2271.9504 - mae: 2271.9504\n",
            "Epoch 56/200\n",
            "6/6 [==============================] - 0s 3ms/step - loss: 2259.2686 - mae: 2259.2686\n",
            "Epoch 57/200\n",
            "6/6 [==============================] - 0s 3ms/step - loss: 2261.6257 - mae: 2261.6257\n",
            "Epoch 58/200\n",
            "6/6 [==============================] - 0s 4ms/step - loss: 2253.3115 - mae: 2253.3115\n",
            "Epoch 59/200\n",
            "6/6 [==============================] - 0s 3ms/step - loss: 2245.1169 - mae: 2245.1169\n",
            "Epoch 60/200\n",
            "6/6 [==============================] - 0s 3ms/step - loss: 2231.7935 - mae: 2231.7935\n",
            "Epoch 61/200\n",
            "6/6 [==============================] - 0s 2ms/step - loss: 2237.3071 - mae: 2237.3071\n",
            "Epoch 62/200\n",
            "6/6 [==============================] - 0s 3ms/step - loss: 2247.4407 - mae: 2247.4407\n",
            "Epoch 63/200\n",
            "6/6 [==============================] - 0s 3ms/step - loss: 2261.7832 - mae: 2261.7832\n",
            "Epoch 64/200\n",
            "6/6 [==============================] - 0s 3ms/step - loss: 2198.2148 - mae: 2198.2148\n",
            "Epoch 65/200\n",
            "6/6 [==============================] - 0s 3ms/step - loss: 2246.9404 - mae: 2246.9404\n",
            "Epoch 66/200\n",
            "6/6 [==============================] - 0s 3ms/step - loss: 2181.5408 - mae: 2181.5408\n",
            "Epoch 67/200\n",
            "6/6 [==============================] - 0s 3ms/step - loss: 2182.5334 - mae: 2182.5334\n",
            "Epoch 68/200\n",
            "6/6 [==============================] - 0s 3ms/step - loss: 2174.3884 - mae: 2174.3884\n",
            "Epoch 69/200\n",
            "6/6 [==============================] - 0s 3ms/step - loss: 2163.9648 - mae: 2163.9648\n",
            "Epoch 70/200\n",
            "6/6 [==============================] - 0s 6ms/step - loss: 2185.6360 - mae: 2185.6360\n",
            "Epoch 71/200\n",
            "6/6 [==============================] - 0s 3ms/step - loss: 2164.1279 - mae: 2164.1279\n",
            "Epoch 72/200\n",
            "6/6 [==============================] - 0s 3ms/step - loss: 2138.9482 - mae: 2138.9482\n",
            "Epoch 73/200\n",
            "6/6 [==============================] - 0s 2ms/step - loss: 2144.6436 - mae: 2144.6436\n",
            "Epoch 74/200\n",
            "6/6 [==============================] - 0s 3ms/step - loss: 2133.8433 - mae: 2133.8433\n",
            "Epoch 75/200\n",
            "6/6 [==============================] - 0s 4ms/step - loss: 2117.6831 - mae: 2117.6831\n",
            "Epoch 76/200\n",
            "6/6 [==============================] - 0s 3ms/step - loss: 2115.5361 - mae: 2115.5361\n",
            "Epoch 77/200\n",
            "6/6 [==============================] - 0s 3ms/step - loss: 2105.5076 - mae: 2105.5076\n",
            "Epoch 78/200\n",
            "6/6 [==============================] - 0s 3ms/step - loss: 2110.1685 - mae: 2110.1685\n",
            "Epoch 79/200\n",
            "6/6 [==============================] - 0s 3ms/step - loss: 2115.8589 - mae: 2115.8589\n",
            "Epoch 80/200\n",
            "6/6 [==============================] - 0s 3ms/step - loss: 2104.8093 - mae: 2104.8093\n",
            "Epoch 81/200\n",
            "6/6 [==============================] - 0s 3ms/step - loss: 2069.2368 - mae: 2069.2368\n",
            "Epoch 82/200\n",
            "6/6 [==============================] - 0s 3ms/step - loss: 2098.9983 - mae: 2098.9983\n",
            "Epoch 83/200\n",
            "6/6 [==============================] - 0s 3ms/step - loss: 2064.3857 - mae: 2064.3857\n",
            "Epoch 84/200\n",
            "6/6 [==============================] - 0s 3ms/step - loss: 2063.7070 - mae: 2063.7070\n",
            "Epoch 85/200\n",
            "6/6 [==============================] - 0s 3ms/step - loss: 2075.7712 - mae: 2075.7712\n",
            "Epoch 86/200\n",
            "6/6 [==============================] - 0s 3ms/step - loss: 2043.0707 - mae: 2043.0707\n",
            "Epoch 87/200\n",
            "6/6 [==============================] - 0s 2ms/step - loss: 2068.1108 - mae: 2068.1108\n",
            "Epoch 88/200\n",
            "6/6 [==============================] - 0s 4ms/step - loss: 2019.6492 - mae: 2019.6492\n",
            "Epoch 89/200\n",
            "6/6 [==============================] - 0s 3ms/step - loss: 2052.3833 - mae: 2052.3833\n",
            "Epoch 90/200\n",
            "6/6 [==============================] - 0s 3ms/step - loss: 2027.8156 - mae: 2027.8156\n",
            "Epoch 91/200\n",
            "6/6 [==============================] - 0s 4ms/step - loss: 2005.9603 - mae: 2005.9603\n",
            "Epoch 92/200\n",
            "6/6 [==============================] - 0s 4ms/step - loss: 2003.9403 - mae: 2003.9403\n",
            "Epoch 93/200\n",
            "6/6 [==============================] - 0s 3ms/step - loss: 2000.7990 - mae: 2000.7990\n",
            "Epoch 94/200\n",
            "6/6 [==============================] - 0s 4ms/step - loss: 2008.8601 - mae: 2008.8601\n",
            "Epoch 95/200\n",
            "6/6 [==============================] - 0s 3ms/step - loss: 1989.0680 - mae: 1989.0680\n",
            "Epoch 96/200\n",
            "6/6 [==============================] - 0s 3ms/step - loss: 1990.6169 - mae: 1990.6169\n",
            "Epoch 97/200\n",
            "6/6 [==============================] - 0s 3ms/step - loss: 1985.9623 - mae: 1985.9623\n",
            "Epoch 98/200\n",
            "6/6 [==============================] - 0s 3ms/step - loss: 1963.9600 - mae: 1963.9600\n",
            "Epoch 99/200\n",
            "6/6 [==============================] - 0s 3ms/step - loss: 1950.0587 - mae: 1950.0587\n",
            "Epoch 100/200\n",
            "6/6 [==============================] - 0s 3ms/step - loss: 1981.6487 - mae: 1981.6487\n",
            "Epoch 101/200\n",
            "6/6 [==============================] - 0s 3ms/step - loss: 1936.4017 - mae: 1936.4017\n",
            "Epoch 102/200\n",
            "6/6 [==============================] - 0s 4ms/step - loss: 1948.8275 - mae: 1948.8275\n",
            "Epoch 103/200\n",
            "6/6 [==============================] - 0s 3ms/step - loss: 1927.1101 - mae: 1927.1101\n",
            "Epoch 104/200\n",
            "6/6 [==============================] - 0s 3ms/step - loss: 1926.1471 - mae: 1926.1471\n",
            "Epoch 105/200\n",
            "6/6 [==============================] - 0s 3ms/step - loss: 1918.8478 - mae: 1918.8478\n",
            "Epoch 106/200\n",
            "6/6 [==============================] - 0s 3ms/step - loss: 1916.3304 - mae: 1916.3304\n",
            "Epoch 107/200\n",
            "6/6 [==============================] - 0s 3ms/step - loss: 1902.3098 - mae: 1902.3098\n",
            "Epoch 108/200\n",
            "6/6 [==============================] - 0s 4ms/step - loss: 1898.4674 - mae: 1898.4674\n",
            "Epoch 109/200\n",
            "6/6 [==============================] - 0s 4ms/step - loss: 1883.3723 - mae: 1883.3723\n",
            "Epoch 110/200\n",
            "6/6 [==============================] - 0s 3ms/step - loss: 1878.8895 - mae: 1878.8895\n",
            "Epoch 111/200\n",
            "6/6 [==============================] - 0s 3ms/step - loss: 1873.6301 - mae: 1873.6301\n",
            "Epoch 112/200\n",
            "6/6 [==============================] - 0s 5ms/step - loss: 1873.6803 - mae: 1873.6803\n",
            "Epoch 113/200\n",
            "6/6 [==============================] - 0s 4ms/step - loss: 1864.6650 - mae: 1864.6650\n",
            "Epoch 114/200\n",
            "6/6 [==============================] - 0s 4ms/step - loss: 1857.6674 - mae: 1857.6674\n",
            "Epoch 115/200\n",
            "6/6 [==============================] - 0s 3ms/step - loss: 1850.9192 - mae: 1850.9192\n",
            "Epoch 116/200\n",
            "6/6 [==============================] - 0s 2ms/step - loss: 1845.5461 - mae: 1845.5461\n",
            "Epoch 117/200\n",
            "6/6 [==============================] - 0s 3ms/step - loss: 1845.7517 - mae: 1845.7517\n",
            "Epoch 118/200\n",
            "6/6 [==============================] - 0s 3ms/step - loss: 1844.8159 - mae: 1844.8159\n",
            "Epoch 119/200\n",
            "6/6 [==============================] - 0s 3ms/step - loss: 1833.6217 - mae: 1833.6217\n",
            "Epoch 120/200\n",
            "6/6 [==============================] - 0s 4ms/step - loss: 1825.3739 - mae: 1825.3739\n",
            "Epoch 121/200\n",
            "6/6 [==============================] - 0s 4ms/step - loss: 1815.4318 - mae: 1815.4318\n",
            "Epoch 122/200\n",
            "6/6 [==============================] - 0s 3ms/step - loss: 1804.0887 - mae: 1804.0887\n",
            "Epoch 123/200\n",
            "6/6 [==============================] - 0s 3ms/step - loss: 1803.5193 - mae: 1803.5193\n",
            "Epoch 124/200\n",
            "6/6 [==============================] - 0s 3ms/step - loss: 1818.4926 - mae: 1818.4926\n",
            "Epoch 125/200\n",
            "6/6 [==============================] - 0s 3ms/step - loss: 1795.5814 - mae: 1795.5814\n",
            "Epoch 126/200\n",
            "6/6 [==============================] - 0s 3ms/step - loss: 1784.5649 - mae: 1784.5649\n",
            "Epoch 127/200\n",
            "6/6 [==============================] - 0s 3ms/step - loss: 1784.2185 - mae: 1784.2185\n",
            "Epoch 128/200\n",
            "6/6 [==============================] - 0s 3ms/step - loss: 1783.2827 - mae: 1783.2827\n",
            "Epoch 129/200\n",
            "6/6 [==============================] - 0s 4ms/step - loss: 1774.0377 - mae: 1774.0377\n",
            "Epoch 130/200\n",
            "6/6 [==============================] - 0s 3ms/step - loss: 1772.6699 - mae: 1772.6699\n",
            "Epoch 131/200\n",
            "6/6 [==============================] - 0s 3ms/step - loss: 1761.6820 - mae: 1761.6820\n",
            "Epoch 132/200\n",
            "6/6 [==============================] - 0s 2ms/step - loss: 1758.3092 - mae: 1758.3092\n",
            "Epoch 133/200\n",
            "6/6 [==============================] - 0s 3ms/step - loss: 1751.6964 - mae: 1751.6964\n",
            "Epoch 134/200\n",
            "6/6 [==============================] - 0s 3ms/step - loss: 1777.4478 - mae: 1777.4478\n",
            "Epoch 135/200\n",
            "6/6 [==============================] - 0s 3ms/step - loss: 1764.6359 - mae: 1764.6359\n",
            "Epoch 136/200\n",
            "6/6 [==============================] - 0s 3ms/step - loss: 1786.5431 - mae: 1786.5431\n",
            "Epoch 137/200\n",
            "6/6 [==============================] - 0s 2ms/step - loss: 1769.1576 - mae: 1769.1576\n",
            "Epoch 138/200\n",
            "6/6 [==============================] - 0s 3ms/step - loss: 1746.8448 - mae: 1746.8448\n",
            "Epoch 139/200\n",
            "6/6 [==============================] - 0s 3ms/step - loss: 1738.7898 - mae: 1738.7898\n",
            "Epoch 140/200\n",
            "6/6 [==============================] - 0s 3ms/step - loss: 1771.5173 - mae: 1771.5173\n",
            "Epoch 141/200\n",
            "6/6 [==============================] - 0s 3ms/step - loss: 1770.0173 - mae: 1770.0173\n",
            "Epoch 142/200\n",
            "6/6 [==============================] - 0s 3ms/step - loss: 1726.4188 - mae: 1726.4188\n",
            "Epoch 143/200\n",
            "6/6 [==============================] - 0s 3ms/step - loss: 1716.5544 - mae: 1716.5544\n",
            "Epoch 144/200\n",
            "6/6 [==============================] - 0s 2ms/step - loss: 1724.1168 - mae: 1724.1168\n",
            "Epoch 145/200\n",
            "6/6 [==============================] - 0s 3ms/step - loss: 1721.8030 - mae: 1721.8030\n",
            "Epoch 146/200\n",
            "6/6 [==============================] - 0s 3ms/step - loss: 1704.7155 - mae: 1704.7155\n",
            "Epoch 147/200\n",
            "6/6 [==============================] - 0s 3ms/step - loss: 1709.0109 - mae: 1709.0109\n",
            "Epoch 148/200\n",
            "6/6 [==============================] - 0s 3ms/step - loss: 1698.1301 - mae: 1698.1301\n",
            "Epoch 149/200\n",
            "6/6 [==============================] - 0s 3ms/step - loss: 1697.9443 - mae: 1697.9443\n",
            "Epoch 150/200\n",
            "6/6 [==============================] - 0s 3ms/step - loss: 1693.8223 - mae: 1693.8223\n",
            "Epoch 151/200\n",
            "6/6 [==============================] - 0s 3ms/step - loss: 1700.6616 - mae: 1700.6616\n",
            "Epoch 152/200\n",
            "6/6 [==============================] - 0s 3ms/step - loss: 1690.4847 - mae: 1690.4847\n",
            "Epoch 153/200\n",
            "6/6 [==============================] - 0s 3ms/step - loss: 1689.4008 - mae: 1689.4008\n",
            "Epoch 154/200\n",
            "6/6 [==============================] - 0s 3ms/step - loss: 1691.1913 - mae: 1691.1913\n",
            "Epoch 155/200\n",
            "6/6 [==============================] - 0s 3ms/step - loss: 1685.1400 - mae: 1685.1400\n",
            "Epoch 156/200\n",
            "6/6 [==============================] - 0s 4ms/step - loss: 1678.0903 - mae: 1678.0903\n",
            "Epoch 157/200\n",
            "6/6 [==============================] - 0s 3ms/step - loss: 1671.4657 - mae: 1671.4657\n",
            "Epoch 158/200\n",
            "6/6 [==============================] - 0s 4ms/step - loss: 1656.3053 - mae: 1656.3053\n",
            "Epoch 159/200\n",
            "6/6 [==============================] - 0s 3ms/step - loss: 1657.5944 - mae: 1657.5944\n",
            "Epoch 160/200\n",
            "6/6 [==============================] - 0s 3ms/step - loss: 1652.2540 - mae: 1652.2540\n",
            "Epoch 161/200\n",
            "6/6 [==============================] - 0s 2ms/step - loss: 1647.7759 - mae: 1647.7759\n",
            "Epoch 162/200\n",
            "6/6 [==============================] - 0s 3ms/step - loss: 1679.9413 - mae: 1679.9413\n",
            "Epoch 163/200\n",
            "6/6 [==============================] - 0s 5ms/step - loss: 1641.6890 - mae: 1641.6890\n",
            "Epoch 164/200\n",
            "6/6 [==============================] - 0s 3ms/step - loss: 1653.8163 - mae: 1653.8163\n",
            "Epoch 165/200\n",
            "6/6 [==============================] - 0s 3ms/step - loss: 1634.9595 - mae: 1634.9595\n",
            "Epoch 166/200\n",
            "6/6 [==============================] - 0s 3ms/step - loss: 1631.8457 - mae: 1631.8457\n",
            "Epoch 167/200\n",
            "6/6 [==============================] - 0s 3ms/step - loss: 1639.7150 - mae: 1639.7150\n",
            "Epoch 168/200\n",
            "6/6 [==============================] - 0s 3ms/step - loss: 1617.4941 - mae: 1617.4941\n",
            "Epoch 169/200\n",
            "6/6 [==============================] - 0s 3ms/step - loss: 1618.9351 - mae: 1618.9351\n",
            "Epoch 170/200\n",
            "6/6 [==============================] - 0s 2ms/step - loss: 1620.4408 - mae: 1620.4408\n",
            "Epoch 171/200\n",
            "6/6 [==============================] - 0s 3ms/step - loss: 1611.1365 - mae: 1611.1365\n",
            "Epoch 172/200\n",
            "6/6 [==============================] - 0s 3ms/step - loss: 1625.4216 - mae: 1625.4216\n",
            "Epoch 173/200\n",
            "6/6 [==============================] - 0s 3ms/step - loss: 1600.1665 - mae: 1600.1665\n",
            "Epoch 174/200\n",
            "6/6 [==============================] - 0s 3ms/step - loss: 1624.0244 - mae: 1624.0244\n",
            "Epoch 175/200\n",
            "6/6 [==============================] - 0s 3ms/step - loss: 1610.6818 - mae: 1610.6818\n",
            "Epoch 176/200\n",
            "6/6 [==============================] - 0s 3ms/step - loss: 1599.7982 - mae: 1599.7982\n",
            "Epoch 177/200\n",
            "6/6 [==============================] - 0s 3ms/step - loss: 1682.4430 - mae: 1682.4430\n",
            "Epoch 178/200\n",
            "6/6 [==============================] - 0s 3ms/step - loss: 1647.4626 - mae: 1647.4626\n",
            "Epoch 179/200\n",
            "6/6 [==============================] - 0s 3ms/step - loss: 1590.5623 - mae: 1590.5623\n",
            "Epoch 180/200\n",
            "6/6 [==============================] - 0s 3ms/step - loss: 1589.5636 - mae: 1589.5636\n",
            "Epoch 181/200\n",
            "6/6 [==============================] - 0s 3ms/step - loss: 1575.2865 - mae: 1575.2865\n",
            "Epoch 182/200\n",
            "6/6 [==============================] - 0s 4ms/step - loss: 1578.9156 - mae: 1578.9156\n",
            "Epoch 183/200\n",
            "6/6 [==============================] - 0s 3ms/step - loss: 1575.9802 - mae: 1575.9802\n",
            "Epoch 184/200\n",
            "6/6 [==============================] - 0s 3ms/step - loss: 1560.2764 - mae: 1560.2764\n",
            "Epoch 185/200\n",
            "6/6 [==============================] - 0s 4ms/step - loss: 1565.0139 - mae: 1565.0139\n",
            "Epoch 186/200\n",
            "6/6 [==============================] - 0s 3ms/step - loss: 1553.4309 - mae: 1553.4309\n",
            "Epoch 187/200\n",
            "6/6 [==============================] - 0s 3ms/step - loss: 1556.9553 - mae: 1556.9553\n",
            "Epoch 188/200\n",
            "6/6 [==============================] - 0s 3ms/step - loss: 1560.1760 - mae: 1560.1760\n",
            "Epoch 189/200\n",
            "6/6 [==============================] - 0s 3ms/step - loss: 1546.0470 - mae: 1546.0470\n",
            "Epoch 190/200\n",
            "6/6 [==============================] - 0s 3ms/step - loss: 1554.6591 - mae: 1554.6591\n",
            "Epoch 191/200\n",
            "6/6 [==============================] - 0s 3ms/step - loss: 1542.7228 - mae: 1542.7228\n",
            "Epoch 192/200\n",
            "6/6 [==============================] - 0s 3ms/step - loss: 1540.1572 - mae: 1540.1572\n",
            "Epoch 193/200\n",
            "6/6 [==============================] - 0s 4ms/step - loss: 1550.6042 - mae: 1550.6042\n",
            "Epoch 194/200\n",
            "6/6 [==============================] - 0s 3ms/step - loss: 1525.6429 - mae: 1525.6429\n",
            "Epoch 195/200\n",
            "6/6 [==============================] - 0s 3ms/step - loss: 1526.7321 - mae: 1526.7321\n",
            "Epoch 196/200\n",
            "6/6 [==============================] - 0s 4ms/step - loss: 1533.5817 - mae: 1533.5817\n",
            "Epoch 197/200\n",
            "6/6 [==============================] - 0s 6ms/step - loss: 1525.8184 - mae: 1525.8184\n",
            "Epoch 198/200\n",
            "6/6 [==============================] - 0s 4ms/step - loss: 1537.1644 - mae: 1537.1644\n",
            "Epoch 199/200\n",
            "6/6 [==============================] - 0s 3ms/step - loss: 1530.0042 - mae: 1530.0042\n",
            "Epoch 200/200\n",
            "6/6 [==============================] - 0s 3ms/step - loss: 1523.0132 - mae: 1523.0132\n"
          ]
        }
      ]
    },
    {
      "cell_type": "markdown",
      "metadata": {
        "id": "vTcfq4A59p4B"
      },
      "source": [
        "Again plotting `loss function` to make sure there is minimization:"
      ]
    },
    {
      "cell_type": "code",
      "metadata": {
        "colab": {
          "base_uri": "https://localhost:8080/",
          "height": 296
        },
        "id": "jXFXndtkeuB_",
        "outputId": "3e9f2d08-2540-4823-a57a-65fc70684a36"
      },
      "source": [
        "pd.DataFrame(history_2.history).plot()\n",
        "plt.xlabel(\"epochs\")\n",
        "plt.ylabel(\"loss\")"
      ],
      "execution_count": 26,
      "outputs": [
        {
          "output_type": "execute_result",
          "data": {
            "text/plain": [
              "Text(0, 0.5, 'loss')"
            ]
          },
          "metadata": {},
          "execution_count": 26
        },
        {
          "output_type": "display_data",
          "data": {
            "image/png": "[encoded data removed]",
            "text/plain": [
              "<Figure size 432x288 with 1 Axes>"
            ]
          },
          "metadata": {
            "needs_background": "light"
          }
        }
      ]
    },
    {
      "cell_type": "markdown",
      "metadata": {
        "id": "mIbmcg08926A"
      },
      "source": [
        "evaluating the model by implementing `evaluate` method to analyze the new model:"
      ]
    },
    {
      "cell_type": "code",
      "metadata": {
        "colab": {
          "base_uri": "https://localhost:8080/"
        },
        "id": "Qd9Ye6bhfASC",
        "outputId": "b3591f1a-c049-4b4a-a877-a806569ae388"
      },
      "source": [
        "model_2.evaluate(X_test_normal, y_test)"
      ],
      "execution_count": 27,
      "outputs": [
        {
          "output_type": "stream",
          "name": "stdout",
          "text": [
            "2/2 [==============================] - 0s 4ms/step - loss: 2167.1648 - mae: 2167.1648\n"
          ]
        },
        {
          "output_type": "execute_result",
          "data": {
            "text/plain": [
              "[2167.164794921875, 2167.164794921875]"
            ]
          },
          "metadata": {},
          "execution_count": 27
        }
      ]
    },
    {
      "cell_type": "markdown",
      "metadata": {
        "id": "9e-XnuDg-LYd"
      },
      "source": [
        "👆 At this time we could reach more less `mae` which means our model would be more effective:"
      ]
    },
    {
      "cell_type": "code",
      "metadata": {
        "id": "4u8hmP-qfozk"
      },
      "source": [
        "y_pred_2 = model_2.predict(X_test_normal)"
      ],
      "execution_count": 28,
      "outputs": []
    },
    {
      "cell_type": "markdown",
      "metadata": {
        "id": "Y1Mur-b--cTd"
      },
      "source": [
        "And now by plotting two instant columns to see model precision:"
      ]
    },
    {
      "cell_type": "code",
      "metadata": {
        "colab": {
          "base_uri": "https://localhost:8080/",
          "height": 351
        },
        "id": "X1uAFAELf7Zm",
        "outputId": "6d3e4ba6-66e3-47bf-f1cb-69ae613b8c82"
      },
      "source": [
        "fig, axes = plt.subplots(1, 2)\n",
        "fig.set_size_inches(12, 5)\n",
        "axes[0].scatter(X_test['horsepower'], y_test, c='b')\n",
        "axes[0].scatter(X_test['horsepower'], y_pred_2, c='r')\n",
        "axes[0].set(xlabel=\"horsepower\")\n",
        "axes[0].set(ylabel=\"price\")\n",
        "axes[0].legend([\"Test data\", \"Predicted data\"])\n",
        "\n",
        "axes[1].scatter(X_test['peakrpm'], y_test, c='b')\n",
        "axes[1].scatter(X_test['peakrpm'], y_pred_2, c='r')\n",
        "axes[1].set(xlabel=\"peakrpm\")\n",
        "axes[1].legend([\"Test data\", \"Predicted data\"])"
      ],
      "execution_count": 33,
      "outputs": [
        {
          "output_type": "execute_result",
          "data": {
            "text/plain": [
              "<matplotlib.legend.Legend at 0x7f9188805250>"
            ]
          },
          "metadata": {},
          "execution_count": 33
        },
        {
          "output_type": "display_data",
          "data": {
            "image/png": "[encoded data removed]",
            "text/plain": [
              "<Figure size 864x360 with 2 Axes>"
            ]
          },
          "metadata": {
            "needs_background": "light"
          }
        }
      ]
    },
    {
      "cell_type": "markdown",
      "metadata": {
        "id": "z1b5v5Ji-3XC"
      },
      "source": [
        "🔑 **Note:** for experiment we should always consider about _overfitting_ and _underfitting_ (bias and varians)."
      ]
    }
  ]
}